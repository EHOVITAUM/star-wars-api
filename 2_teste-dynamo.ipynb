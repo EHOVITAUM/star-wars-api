{
 "cells": [
  {
   "cell_type": "markdown",
   "metadata": {},
   "source": [
    "### faz upload de registros para o DynamoDB"
   ]
  },
  {
   "cell_type": "code",
   "execution_count": null,
   "metadata": {},
   "outputs": [],
   "source": [
    "import boto3\n",
    "import json\n",
    "import pandas as pd\n",
    "\n",
    "def upload_to_dynamodb(table_name, json_file):\n",
    "    # Inicializa o cliente do DynamoDB\n",
    "    dynamodb = boto3.resource('dynamodb')\n",
    "    table = dynamodb.Table(table_name)\n",
    "    \n",
    "    # Carrega os dados do JSON e converte para lista de dicionários\n",
    "    with open(json_file, 'r', encoding='utf-8') as f:\n",
    "        raw_data = json.load(f)\n",
    "\n",
    "    # Converte o dicionário para um DataFrame do Pandas\n",
    "    df = pd.DataFrame.from_dict(raw_data)\n",
    "    \n",
    "    # Converte o DataFrame para uma lista de dicionários\n",
    "    data_list = df.to_dict(orient=\"records\")\n",
    "\n",
    "    # Insere os itens no DynamoDB\n",
    "    for item in data_list:\n",
    "        table.put_item(Item=item)\n",
    "    \n",
    "    print(\"Dados inseridos com sucesso!\")\n",
    "\n",
    "# Exemplo de uso\n",
    "upload_to_dynamodb('star_wars_characters', 'star_wars_characters.json')\n"
   ]
  },
  {
   "cell_type": "markdown",
   "metadata": {},
   "source": [
    "### faz consulta baseada na chave de partição "
   ]
  },
  {
   "cell_type": "code",
   "execution_count": 4,
   "metadata": {},
   "outputs": [
    {
     "name": "stdout",
     "output_type": "stream",
     "text": [
      "{'eye_color': 'yellow', 'homeworld': 'Tatooine', 'created': '2014-12-10T15:18:20.704000Z', 'hair_color': 'none', 'birth_year': '41.9BBY', 'skin_color': 'white', 'url': 'https://swapi.dev/api/people/4/', 'films': 'A New Hope, The Empire Strikes Back, Return of the Jedi, Revenge of the Sith', 'gender': 'male', 'species': None, 'mass': '136', 'height': '202', 'edited': '2014-12-20T21:17:50.313000Z', 'vehicles': None, 'characters_met': 'Saesee Tiin, Chewbacca, Boba Fett, R5-D4, Wedge Antilles, Nien Nunb, Han Solo, Palpatine, Ayla Secura, Eeth Koth, Greedo, Poggle the Lesser, R4-P17, Ki-Adi-Mundi, Raymus Antilles, Anakin Skywalker, Tarfful, Wicket Systri Warrick, R2-D2, Leia Organa, Luminara Unduli, Plo Koon, Beru Whitesun lars, Wilhuff Tarkin, Bossk, IG-88, Obi-Wan Kenobi, Grievous, Arvel Crynyd, Bib Fortuna, Jabba Desilijic Tiure, Ackbar, Mace Windu, Sly Moore, C-3PO, Lobot, Jek Tono Porkins, Mon Mothma, Owen Lars, Nute Gunray, Lando Calrissian, Dooku, Biggs Darklighter, Adi Gallia, Shaak Ti, Tion Medon, Kit Fisto, Yoda, Luke Skywalker, Bail Prestor Organa, Padmé Amidala', 'starships': 'TIE Advanced x1', 'characters_name': 'Darth Vader'}\n"
     ]
    }
   ],
   "source": [
    "import boto3\n",
    "\n",
    "# Inicializa o cliente do DynamoDB\n",
    "dynamodb = boto3.resource(\"dynamodb\")\n",
    "\n",
    "# Nome da tabela\n",
    "table_name = \"star_wars_characters\"\n",
    "table = dynamodb.Table(table_name)\n",
    "\n",
    "# Chave de partição\n",
    "partition_key = \"characters_name\"\n",
    "character_name = \"Darth Vader\"\n",
    "\n",
    "# Consulta no DynamoDB\n",
    "response = table.get_item(Key={partition_key: character_name})\n",
    "\n",
    "# Exibir resultado\n",
    "if \"Item\" in response:\n",
    "    print(response[\"Item\"])\n",
    "else:\n",
    "    print(f\"Personagem '{character_name}' não encontrado.\")\n"
   ]
  },
  {
   "cell_type": "code",
   "execution_count": null,
   "metadata": {},
   "outputs": [],
   "source": []
  },
  {
   "cell_type": "code",
   "execution_count": null,
   "metadata": {},
   "outputs": [],
   "source": []
  }
 ],
 "metadata": {
  "kernelspec": {
   "display_name": "pyspark-env",
   "language": "python",
   "name": "pyspark-env"
  },
  "language_info": {
   "codemirror_mode": {
    "name": "ipython",
    "version": 3
   },
   "file_extension": ".py",
   "mimetype": "text/x-python",
   "name": "python",
   "nbconvert_exporter": "python",
   "pygments_lexer": "ipython3",
   "version": "3.11.4"
  }
 },
 "nbformat": 4,
 "nbformat_minor": 2
}
